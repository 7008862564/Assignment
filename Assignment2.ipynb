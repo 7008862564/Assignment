{
  "nbformat": 4,
  "nbformat_minor": 0,
  "metadata": {
    "colab": {
      "name": "Assignment2.ipynb",
      "provenance": []
    },
    "kernelspec": {
      "name": "python3",
      "display_name": "Python 3"
    }
  },
  "cells": [
    {
      "cell_type": "code",
      "metadata": {
        "id": "9e5OQa0awU8V",
        "colab_type": "code",
        "colab": {
          "base_uri": "https://localhost:8080/",
          "height": 353
        },
        "outputId": "ea8dad4f-543c-498f-fefc-58dcfe2febf2"
      },
      "source": [
        "#Question 1\n",
        "def pattern(n):\n",
        "      for i in range(0, n):\n",
        "           for j in range(0,i):\n",
        "                print(\"* \",end=\"\")\n",
        "           print(\"\\n\")\n",
        "      for i in range(n,0,-1 ):\n",
        "          for j in range(0,i):\n",
        "               print(\"* \",end=\"\")\n",
        "          print(\"\\n\")\n",
        " \n",
        "pattern(5)"
      ],
      "execution_count": 20,
      "outputs": [
        {
          "output_type": "stream",
          "text": [
            "\n",
            "\n",
            "* \n",
            "\n",
            "* * \n",
            "\n",
            "* * * \n",
            "\n",
            "* * * * \n",
            "\n",
            "* * * * * \n",
            "\n",
            "* * * * \n",
            "\n",
            "* * * \n",
            "\n",
            "* * \n",
            "\n",
            "* \n",
            "\n"
          ],
          "name": "stdout"
        }
      ]
    },
    {
      "cell_type": "code",
      "metadata": {
        "id": "XrYAtpO0zmhj",
        "colab_type": "code",
        "colab": {
          "base_uri": "https://localhost:8080/",
          "height": 50
        },
        "outputId": "bb4c812b-3fe1-42f8-fa7b-f14478e03f70"
      },
      "source": [
        "#Question 2\n",
        "a=input(\"Input word:\")\n",
        "print(\"Output:\"+a[::-1])"
      ],
      "execution_count": 21,
      "outputs": [
        {
          "output_type": "stream",
          "text": [
            "Input word:ineuron\n",
            "Output:norueni\n"
          ],
          "name": "stdout"
        }
      ]
    }
  ]
}